{
 "cells": [
  {
   "cell_type": "markdown",
   "metadata": {},
   "source": [
    "# commander examples\n"
   ]
  },
  {
   "cell_type": "code",
   "execution_count": 2,
   "metadata": {},
   "outputs": [],
   "source": [
    "from typing import List\n",
    "from math import pi\n",
    "import rospy\n",
    "from copy import deepcopy\n",
    "\n",
    "from moveit_commander import PlanningSceneInterface\n",
    "\n",
    "from geometry_msgs.msg import (\n",
    "    Pose,\n",
    "    PoseStamped,\n",
    "    Point,\n",
    "    Quaternion,\n",
    ")\n",
    "from commander.msg import Goal\n",
    "from commander.srv import (\n",
    "    ExecuteTrajectory,\n",
    "    PlanGoal,\n",
    "    PlanGoalRequest,\n",
    "    PlanSequence,\n",
    "    PlanSequenceRequest,\n",
    "    PickPlace,\n",
    "    GetTcpPose,\n",
    "    VisualizePoses,\n",
    "    SetEe,\n",
    ")\n",
    "\n",
    "from commander.utils import poses_from_yaml, load_scene\n",
    "from commander.transform_utils import orient_poses, create_rotation_matrix, apply_transformation\n",
    "from commander.ur_robot import UrRobot\n",
    "\n",
    "plan_goal_srv = rospy.ServiceProxy('commander/plan_goal', PlanGoal)\n",
    "plan_sequence_srv = rospy.ServiceProxy('commander/plan_sequence', PlanSequence)\n",
    "execute_trajectory_srv = rospy.ServiceProxy('commander/execute_trajectory', ExecuteTrajectory)\n",
    "get_tcp_pose_srv = rospy.ServiceProxy('commander/get_tcp_pose', GetTcpPose)\n",
    "set_ee_srv = rospy.ServiceProxy('commander/set_ee', SetEe)\n",
    "pick_place_srv = rospy.ServiceProxy('commander/pick_place', PickPlace)\n",
    "\n",
    "\n",
    "def display_poses(poses: List[Pose], frame_id: str = 'base_link') -> None:\n",
    "    rospy.wait_for_service('/visualize_poses', timeout=10)\n",
    "    visualize_poses = rospy.ServiceProxy('/visualize_poses', VisualizePoses)\n",
    "    visualize_poses(frame_id, poses)\n",
    "\n",
    "\n",
    "rospy.init_node('robot_program')\n",
    "scene = PlanningSceneInterface()\n",
    "load_scene()\n"
   ]
  },
  {
   "cell_type": "markdown",
   "metadata": {},
   "source": [
    "plan to goal"
   ]
  },
  {
   "cell_type": "code",
   "execution_count": 3,
   "metadata": {},
   "outputs": [],
   "source": [
    "cam_home = [0.0, -1.5708, 1.5708, -3.1416, -1.5708, 0]\n"
   ]
  },
  {
   "cell_type": "code",
   "execution_count": 4,
   "metadata": {},
   "outputs": [
    {
     "data": {
      "text/plain": [
       "success: True\n",
       "configuration_change: False"
      ]
     },
     "execution_count": 4,
     "metadata": {},
     "output_type": "execute_result"
    }
   ],
   "source": [
    "# the following args for planner are available:\n",
    "# - 'ompl' will use the ompl planning pipeline with RTTConnect planner\n",
    "# - 'ptp' will use the pilz planning pipeline with the PTP planner\n",
    "# - 'lin' will use the pilz planning pipeline with the LIN planner\n",
    "\n",
    "plan_goal_srv(Goal(joint_values=cam_home, vel_scale=0.2, acc_scale=0.2, planner='ptp'))"
   ]
  },
  {
   "cell_type": "code",
   "execution_count": 5,
   "metadata": {},
   "outputs": [],
   "source": [
    "success = execute_trajectory_srv()\n"
   ]
  },
  {
   "cell_type": "code",
   "execution_count": 6,
   "metadata": {},
   "outputs": [],
   "source": [
    "success = set_ee_srv('gripper_tcp')\n"
   ]
  },
  {
   "cell_type": "code",
   "execution_count": 20,
   "metadata": {},
   "outputs": [],
   "source": [
    "target0 = Pose(\n",
    "    position=Point(0.5, -0.4, 0.4),\n",
    "    orientation=Quaternion(0.0, -0.7071067811865475, -0.7071067811865475, 0.0),\n",
    ")\n",
    "display_poses([target0])\n",
    "success = plan_goal_srv(Goal(pose=target0,\n",
    "        vel_scale=0.2,\n",
    "        acc_scale=0.2,\n",
    "        planner='ptp'))"
   ]
  },
  {
   "cell_type": "code",
   "execution_count": 21,
   "metadata": {},
   "outputs": [],
   "source": [
    "success = execute_trajectory_srv()\n",
    "# UrRobot().set_do(do = 4, state = 1)\n",
    "# UrRobot().set_do(do = 5, state = 0"
   ]
  },
  {
   "cell_type": "code",
   "execution_count": 22,
   "metadata": {},
   "outputs": [],
   "source": [
    "target1 = Pose(\n",
    "    position=Point(0.5, 0.4, 0.4),\n",
    "    orientation=Quaternion(0.0, -0.7071067811865475, -0.7071067811865475, 0.0),\n",
    ")\n",
    "display_poses([target0, target1])\n",
    "success = plan_goal_srv(Goal(pose=target1,\n",
    "        vel_scale=0.2,\n",
    "        acc_scale=0.2,\n",
    "        planner='ptp'))\n"
   ]
  },
  {
   "cell_type": "code",
   "execution_count": 24,
   "metadata": {},
   "outputs": [
    {
     "ename": "ServiceException",
     "evalue": "service [/ur_hardware_interface/set_io] unavailable",
     "output_type": "error",
     "traceback": [
      "\u001b[0;31m---------------------------------------------------------------------------\u001b[0m",
      "\u001b[0;31mMasterError\u001b[0m                               Traceback (most recent call last)",
      "File \u001b[0;32m/opt/ros/noetic/lib/python3/dist-packages/rospy/impl/tcpros_service.py:465\u001b[0m, in \u001b[0;36mServiceProxy._get_service_uri\u001b[0;34m(self, request)\u001b[0m\n\u001b[1;32m    464\u001b[0m     master \u001b[38;5;241m=\u001b[39m rosgraph\u001b[38;5;241m.\u001b[39mMaster(rospy\u001b[38;5;241m.\u001b[39mnames\u001b[38;5;241m.\u001b[39mget_caller_id())\n\u001b[0;32m--> 465\u001b[0m     \u001b[38;5;28mself\u001b[39m\u001b[38;5;241m.\u001b[39muri \u001b[38;5;241m=\u001b[39m \u001b[43mmaster\u001b[49m\u001b[38;5;241;43m.\u001b[39;49m\u001b[43mlookupService\u001b[49m\u001b[43m(\u001b[49m\u001b[38;5;28;43mself\u001b[39;49m\u001b[38;5;241;43m.\u001b[39;49m\u001b[43mresolved_name\u001b[49m\u001b[43m)\u001b[49m\n\u001b[1;32m    466\u001b[0m \u001b[38;5;28;01mexcept\u001b[39;00m socket\u001b[38;5;241m.\u001b[39merror:\n",
      "File \u001b[0;32m/opt/ros/noetic/lib/python3/dist-packages/rosgraph/masterapi.py:327\u001b[0m, in \u001b[0;36mMaster.lookupService\u001b[0;34m(self, service)\u001b[0m\n\u001b[1;32m    318\u001b[0m \u001b[38;5;250m\u001b[39m\u001b[38;5;124;03m\"\"\"\u001b[39;00m\n\u001b[1;32m    319\u001b[0m \u001b[38;5;124;03mLookup all provider of a particular service.\u001b[39;00m\n\u001b[1;32m    320\u001b[0m \u001b[38;5;124;03m@param service: fully-qualified name of service to lookup.\u001b[39;00m\n\u001b[0;32m   (...)\u001b[0m\n\u001b[1;32m    325\u001b[0m \u001b[38;5;124;03m@raise rosgraph.masterapi.Failure: if Master returns FAILURE.\u001b[39;00m\n\u001b[1;32m    326\u001b[0m \u001b[38;5;124;03m\"\"\"\u001b[39;00m\n\u001b[0;32m--> 327\u001b[0m \u001b[38;5;28;01mreturn\u001b[39;00m \u001b[38;5;28;43mself\u001b[39;49m\u001b[38;5;241;43m.\u001b[39;49m\u001b[43m_succeed\u001b[49m\u001b[43m(\u001b[49m\u001b[38;5;28;43mself\u001b[39;49m\u001b[38;5;241;43m.\u001b[39;49m\u001b[43mhandle\u001b[49m\u001b[38;5;241;43m.\u001b[39;49m\u001b[43mlookupService\u001b[49m\u001b[43m(\u001b[49m\u001b[38;5;28;43mself\u001b[39;49m\u001b[38;5;241;43m.\u001b[39;49m\u001b[43mcaller_id\u001b[49m\u001b[43m,\u001b[49m\u001b[43m \u001b[49m\u001b[43mservice\u001b[49m\u001b[43m)\u001b[49m\u001b[43m)\u001b[49m\n",
      "File \u001b[0;32m/opt/ros/noetic/lib/python3/dist-packages/rosgraph/masterapi.py:154\u001b[0m, in \u001b[0;36mMaster._succeed\u001b[0;34m(self, args)\u001b[0m\n\u001b[1;32m    153\u001b[0m \u001b[38;5;28;01melif\u001b[39;00m code \u001b[38;5;241m==\u001b[39m \u001b[38;5;241m-\u001b[39m\u001b[38;5;241m1\u001b[39m:\n\u001b[0;32m--> 154\u001b[0m     \u001b[38;5;28;01mraise\u001b[39;00m Error(msg)\n\u001b[1;32m    155\u001b[0m \u001b[38;5;28;01melse\u001b[39;00m:\n",
      "\u001b[0;31mMasterError\u001b[0m: no provider",
      "\nDuring handling of the above exception, another exception occurred:\n",
      "\u001b[0;31mServiceException\u001b[0m                          Traceback (most recent call last)",
      "Cell \u001b[0;32mIn[24], line 2\u001b[0m\n\u001b[1;32m      1\u001b[0m success \u001b[38;5;241m=\u001b[39m execute_trajectory_srv()\n\u001b[0;32m----> 2\u001b[0m \u001b[43mUrRobot\u001b[49m\u001b[43m(\u001b[49m\u001b[43m)\u001b[49m\u001b[38;5;241;43m.\u001b[39;49m\u001b[43mset_do\u001b[49m\u001b[43m(\u001b[49m\u001b[38;5;241;43m4\u001b[39;49m\u001b[43m,\u001b[49m\u001b[43m \u001b[49m\u001b[38;5;28;43;01mFalse\u001b[39;49;00m\u001b[43m)\u001b[49m\n\u001b[1;32m      3\u001b[0m UrRobot()\u001b[38;5;241m.\u001b[39mset_do(\u001b[38;5;241m5\u001b[39m, \u001b[38;5;28;01mTrue\u001b[39;00m)\n",
      "File \u001b[0;32m/dev_ws/src/commander/src/commander/ur_robot.py:15\u001b[0m, in \u001b[0;36mUrRobot.set_do\u001b[0;34m(self, do, state)\u001b[0m\n\u001b[1;32m     14\u001b[0m \u001b[38;5;28;01mdef\u001b[39;00m \u001b[38;5;21mset_do\u001b[39m(\u001b[38;5;28mself\u001b[39m, do: \u001b[38;5;28mint\u001b[39m, state: \u001b[38;5;28mint\u001b[39m) \u001b[38;5;241m-\u001b[39m\u001b[38;5;241m>\u001b[39m \u001b[38;5;28mbool\u001b[39m:\n\u001b[0;32m---> 15\u001b[0m     \u001b[38;5;28;01mreturn\u001b[39;00m \u001b[38;5;28;43mself\u001b[39;49m\u001b[38;5;241;43m.\u001b[39;49m\u001b[43mset_IO_srv\u001b[49m\u001b[43m(\u001b[49m\u001b[43mSetIORequest\u001b[49m\u001b[43m(\u001b[49m\u001b[43mfun\u001b[49m\u001b[38;5;241;43m=\u001b[39;49m\u001b[38;5;241;43m1\u001b[39;49m\u001b[43m,\u001b[49m\u001b[43m \u001b[49m\u001b[43mpin\u001b[49m\u001b[38;5;241;43m=\u001b[39;49m\u001b[43mdo\u001b[49m\u001b[43m,\u001b[49m\u001b[43m \u001b[49m\u001b[43mstate\u001b[49m\u001b[38;5;241;43m=\u001b[39;49m\u001b[43mstate\u001b[49m\u001b[43m)\u001b[49m\u001b[43m)\u001b[49m\n",
      "File \u001b[0;32m/opt/ros/noetic/lib/python3/dist-packages/rospy/impl/tcpros_service.py:442\u001b[0m, in \u001b[0;36mServiceProxy.__call__\u001b[0;34m(self, *args, **kwds)\u001b[0m\n\u001b[1;32m    428\u001b[0m \u001b[38;5;28;01mdef\u001b[39;00m \u001b[38;5;21m__call__\u001b[39m(\u001b[38;5;28mself\u001b[39m, \u001b[38;5;241m*\u001b[39margs, \u001b[38;5;241m*\u001b[39m\u001b[38;5;241m*\u001b[39mkwds):\n\u001b[1;32m    429\u001b[0m \u001b[38;5;250m    \u001b[39m\u001b[38;5;124;03m\"\"\"\u001b[39;00m\n\u001b[1;32m    430\u001b[0m \u001b[38;5;124;03m    Callable-style version of the service API. This accepts either a request message instance,\u001b[39;00m\n\u001b[1;32m    431\u001b[0m \u001b[38;5;124;03m    or you can call directly with arguments to create a new request instance. e.g.::\u001b[39;00m\n\u001b[0;32m   (...)\u001b[0m\n\u001b[1;32m    440\u001b[0m \u001b[38;5;124;03m    message. This is usually a type error with one of the fields.\u001b[39;00m\n\u001b[1;32m    441\u001b[0m \u001b[38;5;124;03m    \"\"\"\u001b[39;00m\n\u001b[0;32m--> 442\u001b[0m     \u001b[38;5;28;01mreturn\u001b[39;00m \u001b[38;5;28;43mself\u001b[39;49m\u001b[38;5;241;43m.\u001b[39;49m\u001b[43mcall\u001b[49m\u001b[43m(\u001b[49m\u001b[38;5;241;43m*\u001b[39;49m\u001b[43margs\u001b[49m\u001b[43m,\u001b[49m\u001b[43m \u001b[49m\u001b[38;5;241;43m*\u001b[39;49m\u001b[38;5;241;43m*\u001b[39;49m\u001b[43mkwds\u001b[49m\u001b[43m)\u001b[49m\n",
      "File \u001b[0;32m/opt/ros/noetic/lib/python3/dist-packages/rospy/impl/tcpros_service.py:502\u001b[0m, in \u001b[0;36mServiceProxy.call\u001b[0;34m(self, *args, **kwds)\u001b[0m\n\u001b[1;32m    500\u001b[0m \u001b[38;5;66;03m# initialize transport\u001b[39;00m\n\u001b[1;32m    501\u001b[0m \u001b[38;5;28;01mif\u001b[39;00m \u001b[38;5;28mself\u001b[39m\u001b[38;5;241m.\u001b[39mtransport \u001b[38;5;129;01mis\u001b[39;00m \u001b[38;5;28;01mNone\u001b[39;00m:\n\u001b[0;32m--> 502\u001b[0m     service_uri \u001b[38;5;241m=\u001b[39m \u001b[38;5;28;43mself\u001b[39;49m\u001b[38;5;241;43m.\u001b[39;49m\u001b[43m_get_service_uri\u001b[49m\u001b[43m(\u001b[49m\u001b[43mrequest\u001b[49m\u001b[43m)\u001b[49m\n\u001b[1;32m    503\u001b[0m     dest_addr, dest_port \u001b[38;5;241m=\u001b[39m rospy\u001b[38;5;241m.\u001b[39mcore\u001b[38;5;241m.\u001b[39mparse_rosrpc_uri(service_uri)\n\u001b[1;32m    505\u001b[0m     \u001b[38;5;66;03m# connect to service            \u001b[39;00m\n",
      "File \u001b[0;32m/opt/ros/noetic/lib/python3/dist-packages/rospy/impl/tcpros_service.py:470\u001b[0m, in \u001b[0;36mServiceProxy._get_service_uri\u001b[0;34m(self, request)\u001b[0m\n\u001b[1;32m    468\u001b[0m \u001b[38;5;28;01mexcept\u001b[39;00m rosgraph\u001b[38;5;241m.\u001b[39mMasterError \u001b[38;5;28;01mas\u001b[39;00m e:\n\u001b[1;32m    469\u001b[0m     logger\u001b[38;5;241m.\u001b[39merror(\u001b[38;5;124m\"\u001b[39m\u001b[38;5;124m[\u001b[39m\u001b[38;5;132;01m%s\u001b[39;00m\u001b[38;5;124m]: lookup service failed with message [\u001b[39m\u001b[38;5;132;01m%s\u001b[39;00m\u001b[38;5;124m]\u001b[39m\u001b[38;5;124m\"\u001b[39m, \u001b[38;5;28mself\u001b[39m\u001b[38;5;241m.\u001b[39mresolved_name, \u001b[38;5;28mstr\u001b[39m(e))\n\u001b[0;32m--> 470\u001b[0m     \u001b[38;5;28;01mraise\u001b[39;00m ServiceException(\u001b[38;5;124m\"\u001b[39m\u001b[38;5;124mservice [\u001b[39m\u001b[38;5;132;01m%s\u001b[39;00m\u001b[38;5;124m] unavailable\u001b[39m\u001b[38;5;124m\"\u001b[39m\u001b[38;5;241m%\u001b[39m\u001b[38;5;28mself\u001b[39m\u001b[38;5;241m.\u001b[39mresolved_name)\n\u001b[1;32m    472\u001b[0m \u001b[38;5;66;03m# validate\u001b[39;00m\n\u001b[1;32m    473\u001b[0m \u001b[38;5;28;01mtry\u001b[39;00m:\n",
      "\u001b[0;31mServiceException\u001b[0m: service [/ur_hardware_interface/set_io] unavailable"
     ]
    }
   ],
   "source": [
    "success = execute_trajectory_srv()\n",
    "# UrRobot().set_do(4, False)\n",
    "# UrRobot().set_do(5, True)"
   ]
  }
 ],
 "metadata": {
  "kernelspec": {
   "display_name": "Python 3",
   "language": "python",
   "name": "python3"
  },
  "language_info": {
   "codemirror_mode": {
    "name": "ipython",
    "version": 3
   },
   "file_extension": ".py",
   "mimetype": "text/x-python",
   "name": "python",
   "nbconvert_exporter": "python",
   "pygments_lexer": "ipython3",
   "version": "3.8.10"
  },
  "orig_nbformat": 4
 },
 "nbformat": 4,
 "nbformat_minor": 2
}
